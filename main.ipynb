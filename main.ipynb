{
  "nbformat": 4,
  "nbformat_minor": 0,
  "metadata": {
    "colab": {
      "provenance": [],
      "toc_visible": true
    },
    "kernelspec": {
      "name": "python3",
      "display_name": "Python 3"
    },
    "language_info": {
      "name": "python"
    }
  },
  "cells": [
    {
      "cell_type": "code",
      "execution_count": null,
      "metadata": {
        "colab": {
          "base_uri": "https://localhost:8080/"
        },
        "id": "lDZ4ZWNAV-E9",
        "outputId": "9691bdcc-e81e-4cd0-acf1-6c2667c7e88e"
      },
      "outputs": [
        {
          "output_type": "stream",
          "name": "stdout",
          "text": [
            "Rock, Paper, Scissors?Rock\n",
            "Tie!\n",
            "Rock, Paper, Scissors?Paper\n",
            "You win! Paper covers Rock\n",
            "Rock, Paper, Scissors?Scissors\n",
            "You lose... Rock smashes Scissors\n",
            "Rock, Paper, Scissors?Paper\n",
            "You win! Paper covers Rock\n",
            "Rock, Paper, Scissors?Rock\n",
            "You lose! Paper covers Rock\n"
          ]
        }
      ],
      "source": [
        "from random import randint\n",
        "\n",
        "#create a list of play options\n",
        "t = [\"Rock\", \"Paper\", \"Scissors\"]\n",
        "\n",
        "#assign a random play to the computer\n",
        "computer = t[randint(0,2)]\n",
        "\n",
        "#set player to False\n",
        "player = False\n",
        "\n",
        "while player == False:\n",
        "#set player to True\n",
        "    player = input(\"Rock, Paper, Scissors?\")\n",
        "    if player == computer:\n",
        "        print(\"Tie!\")\n",
        "    elif player == \"Rock\":\n",
        "        if computer == \"Paper\":\n",
        "            print(\"You lose!\", computer, \"covers\", player)\n",
        "        else:\n",
        "            print(\"You win!\", player, \"smashes\", computer)\n",
        "    elif player == \"Paper\":\n",
        "        if computer == \"Scissors\":\n",
        "            print(\"You lose!\", computer, \"cut\", player)\n",
        "        else:\n",
        "            print(\"You win!\", player, \"covers\", computer)\n",
        "    elif player == \"Scissors\":\n",
        "        if computer == \"Rock\":\n",
        "            print(\"You lose...\", computer, \"smashes\", player)\n",
        "        else:\n",
        "            print(\"You win!\", player, \"cut\", computer)\n",
        "    else:\n",
        "        print(\"That's not a valid play. Check your spelling!\")\n",
        "    #player was set to True, but we want it to be False so the loop continues\n",
        "    player = False\n",
        "    computer = t[randint(0,2)]"
      ]
    },
    {
      "cell_type": "markdown",
      "source": [
        "# New Section"
      ],
      "metadata": {
        "id": "3Ee7at4icRD8"
      }
    }
  ]
}